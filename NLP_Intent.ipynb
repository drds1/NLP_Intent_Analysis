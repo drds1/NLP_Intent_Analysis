{
 "cells": [
  {
   "cell_type": "markdown",
   "metadata": {},
   "source": [
    "# Intent Analysis on chat bot data\n",
    "\n",
    "Chat bots are increasingly used to automate online customer queries and negate the need for call center staff.\n",
    "\n",
    "Here we will train a Long Short Term Memory (LSTM) network to suggest the intent of a customer based on the text of the input query.\n",
    "\n",
    "[LSTM](https://towardsdatascience.com/recurrent-neural-networks-by-example-in-python-ffd204f99470) networks are great for text classification problems because they have memory (e.g. would be able to identify the word \"not\" before \"good\" as a negative sentiment). This sequential context is something that humans take for granted but that is very difficult for computers to grasp.\n"
   ]
  },
  {
   "cell_type": "code",
   "execution_count": 1,
   "metadata": {},
   "outputs": [],
   "source": [
    "#import dependencies\n",
    "import pandas as pd\n",
    "import keras\n",
    "import numpy as np\n",
    "import utils\n",
    "import os\n",
    "import matplotlib.pylab as plt\n",
    "from sklearn.metrics.pairwise import cosine_similarity"
   ]
  },
  {
   "cell_type": "markdown",
   "metadata": {},
   "source": [
    "# Load train and test sample\n",
    "\n",
    "We will load separately the train and test data. The Xtrain and ytrain respectively will contain a list of the query (one list element per sample) and the outcome label (16 possibilities)."
   ]
  },
  {
   "cell_type": "code",
   "execution_count": 2,
   "metadata": {},
   "outputs": [],
   "source": [
    "#intent analysis atis dataset \n",
    "dftrain = pd.read_csv('./data/datasets_117486_281522_atis.train.csv')\n",
    "Xtrain, ytrain = list(dftrain.values[:,1]), list(dftrain.values[:,-1])\n",
    "\n",
    "dftest = pd.read_csv('./data/datasets_117486_281522_atis.test.csv')\n",
    "Xtest, ytest = list(dftest.values[:,1]), list(dftest.values[:,-1])"
   ]
  },
  {
   "cell_type": "markdown",
   "metadata": {},
   "source": [
    "# One-hot encode labels\n",
    "\n",
    "We will be predicting the probability that an input beloings to each class. For each label, we therefore need a vector of 1s and 0s where 1 appears next to the correct label, and all incorrect labels are zero."
   ]
  },
  {
   "cell_type": "code",
   "execution_count": 3,
   "metadata": {},
   "outputs": [],
   "source": [
    "#one hot encode labnels\n",
    "ytrain = pd.get_dummies(ytrain)\n",
    "labels = list(ytrain.columns)\n",
    "nlabels = len(labels)\n",
    "ytrain = np.array(ytrain)\n",
    "ytest = pd.get_dummies(ytest)\n",
    "ytest = np.array(ytest)"
   ]
  },
  {
   "cell_type": "markdown",
   "metadata": {},
   "source": [
    "# Tokenization\n",
    "\n",
    "We now map each word to an integer identifier. The list sample is then converted into a vector of integers corresponding to each word. For shorter inputs, we padd the start with zeros so that each sample has the same input vector length. \n",
    "\n",
    "Since there are so many words collectively in the full dataset, we keep only the 50 most common in each sample to avoid overfitting our classifier."
   ]
  },
  {
   "cell_type": "code",
   "execution_count": 4,
   "metadata": {},
   "outputs": [],
   "source": [
    "#convert all abstracts to sequences of integers key stored in idx_word\n",
    "tokenizer = keras.preprocessing.text.Tokenizer(num_words=50,\n",
    "                                               filters=\"?!':;,.#$&()*+-<=>@[\\\\]^_`{|}~\\t\\n\",\n",
    "                                               lower=True, split=' ')\n",
    "tokenizer.fit_on_texts(Xtrain)\n",
    "#assign an integer ID to each word\n",
    "Xtrain_sequence = tokenizer.texts_to_sequences(Xtrain)\n",
    "#padd the sequences of short sentences with 0s so everything is the same length\n",
    "Xtrain_sequence = keras.preprocessing.sequence.pad_sequences(Xtrain_sequence,\n",
    "                                                             padding='post')\n",
    "\n",
    "#record the word to ID map and count the number of words in our vocabulary (+ 1 as we have the 0 padding as a word)\n",
    "idx_word = tokenizer.index_word\n",
    "num_words = len(idx_word) + 1"
   ]
  },
  {
   "cell_type": "markdown",
   "metadata": {},
   "source": [
    "# Word Embeddings\n",
    "\n",
    "We need a mathematical way to represent 'words' in vector form such that words with similar meaning have vectors that point in similar directions. i.e. \"plant\" and \"flower\" would have similar pointing vectors in this abstract \"Embedding Vector Space\", but that vectors for words like \"Hot\" and \"Cold\" would point in opposite directions. Training these word embeddings is a herculean task even with monstrous amounts of computing power (not at all suitable for a Macbook). Fortunately, we can load a pre-trained word embedding dictionary like GloVe. GloVe is an unsupervised learning algorithm for representing words as vectors. In this representation, the cosine angle between two word vectors provides an effective method for measuring the linguistic or semantic similarity of the corresponding words as required. GloVe includes several pre-trained word embedding vocabularies. This work uses the 100d vector version with a vocabulary size of 400,000. "
   ]
  },
  {
   "cell_type": "code",
   "execution_count": 5,
   "metadata": {},
   "outputs": [],
   "source": [
    "# if word embeddings are not already present, download them here\n",
    "word_embeddings_link = 'http://nlp.stanford.edu/data/glove.6B.zip'\n",
    "word_embeddings_unzipped_file = 'glove.6B.zip'\n",
    "word_embeddings_file = 'glove.6B.100d.txt'\n",
    "word_embeddings_path = './data_nontracked'#../disaster_nlp/data/non_tracked/glove.6B.100d.txt'\n",
    "if os.path.isdir(word_embeddings_path) is False:\n",
    "    os.system('mkdir '+word_embeddings_path)\n",
    "if os.path.isfile(word_embeddings_path+'/'+word_embeddings_file) is False:\n",
    "    os.system('wget '+word_embeddings_link+' -P '+word_embeddings_path)\n",
    "    os.system('unzip '+word_embeddings_path+'/'+word_embeddings_unzipped_file+' -d '+word_embeddings_path)"
   ]
  },
  {
   "cell_type": "code",
   "execution_count": 6,
   "metadata": {},
   "outputs": [],
   "source": [
    "#load in word embeddings\n",
    "embeddings_dict = utils.load_embeddings(word_embeddings_path+'/'+word_embeddings_file)\n",
    "embeddings_words = list(embeddings_dict.keys())\n",
    "wordvec_dim = embeddings_dict[embeddings_words[0]].shape[0]\n",
    "embedding_matrix = np.zeros((num_words,wordvec_dim))\n",
    "for i, word in idx_word.items():\n",
    "    # Look up the word embedding\n",
    "    vector = embeddings_dict.get(word, None)\n",
    "    # Record in matrix\n",
    "    if vector is not None:\n",
    "        embedding_matrix[i, :] = vector"
   ]
  },
  {
   "cell_type": "markdown",
   "metadata": {},
   "source": [
    "# Fit the model\n",
    "\n",
    "We now build the LSTM model. Many neural nets share similar features. If we want to assign the probability to each class of a given input, the output will always be a Dense layer with softmax activation function equal to the number of labels. If we want a positive / negative decision, the output will be a single neuron with a sigmoid loss. The differences with LSTMs are the input 'Embedding' layer, where we specify our newly loaded word embeddings, and the number of input training samples and size of our vocabulary."
   ]
  },
  {
   "cell_type": "code",
   "execution_count": 7,
   "metadata": {},
   "outputs": [
    {
     "name": "stdout",
     "output_type": "stream",
     "text": [
      "Model: \"sequential\"\n",
      "_________________________________________________________________\n",
      "Layer (type)                 Output Shape              Param #   \n",
      "=================================================================\n",
      "embedding (Embedding)        (None, 28, 100)           86500     \n",
      "_________________________________________________________________\n",
      "masking (Masking)            (None, 28, 100)           0         \n",
      "_________________________________________________________________\n",
      "lstm (LSTM)                  (None, 64)                42240     \n",
      "_________________________________________________________________\n",
      "dropout (Dropout)            (None, 64)                0         \n",
      "_________________________________________________________________\n",
      "dense (Dense)                (None, 17)                1105      \n",
      "=================================================================\n",
      "Total params: 129,845\n",
      "Trainable params: 43,345\n",
      "Non-trainable params: 86,500\n",
      "_________________________________________________________________\n"
     ]
    }
   ],
   "source": [
    "#Initialise the usual sequential network\n",
    "model_lstm = keras.Sequential()\n",
    "\n",
    "#initialise Ebedding layer\n",
    "# input_length is the number of words ids per sample e.g 28\n",
    "# NOT the sample size of the training data\n",
    "# you do not need to supply that info\n",
    "model_lstm.add(keras.layers.Embedding(input_dim=num_words,\n",
    "                                      input_length=Xtrain_sequence.shape[1],\n",
    "                                      output_dim=wordvec_dim,\n",
    "                                      weights=[embedding_matrix],\n",
    "                                      trainable=False,\n",
    "                                      mask_zero=True))\n",
    "\n",
    "#words which are not in the pretrained embeddings (with value 0) are ignored\n",
    "model_lstm.add(keras.layers.Masking(mask_value = 0.0))\n",
    "\n",
    "# Recurrent layer\n",
    "model_lstm.add(keras.layers.LSTM(64, activation='relu'))\n",
    "\n",
    "# Dropout for regularisation and avoid overfit\n",
    "model_lstm.add(keras.layers.Dropout(0.5))\n",
    "\n",
    "# Output layer\n",
    "model_lstm.add(keras.layers.Dense(nlabels,activation = 'softmax' ))\n",
    "\n",
    "# Compile the model\n",
    "model_lstm.compile(\n",
    "    optimizer='adam', loss='categorical_crossentropy', metrics=['accuracy'])\n",
    "\n",
    "# Summarise the model\n",
    "model_lstm.summary()"
   ]
  },
  {
   "cell_type": "markdown",
   "metadata": {},
   "source": [
    "# Fit the model to the training data"
   ]
  },
  {
   "cell_type": "code",
   "execution_count": 8,
   "metadata": {},
   "outputs": [
    {
     "name": "stdout",
     "output_type": "stream",
     "text": [
      "Epoch 1/5\n",
      "134/134 [==============================] - 2s 17ms/step - loss: 1.2309 - accuracy: 0.7204\n",
      "Epoch 2/5\n",
      "134/134 [==============================] - 2s 17ms/step - loss: 0.8556 - accuracy: 0.7845\n",
      "Epoch 3/5\n",
      "134/134 [==============================] - 2s 17ms/step - loss: 0.7009 - accuracy: 0.8280\n",
      "Epoch 4/5\n",
      "134/134 [==============================] - 2s 17ms/step - loss: 0.6208 - accuracy: 0.8444\n",
      "Epoch 5/5\n",
      "134/134 [==============================] - 2s 17ms/step - loss: 0.5765 - accuracy: 0.8484\n"
     ]
    },
    {
     "data": {
      "text/plain": [
       "<tensorflow.python.keras.callbacks.History at 0x7f3637b88040>"
      ]
     },
     "execution_count": 8,
     "metadata": {},
     "output_type": "execute_result"
    }
   ],
   "source": [
    "model_lstm.fit(Xtrain_sequence, ytrain,epochs=5)"
   ]
  },
  {
   "cell_type": "markdown",
   "metadata": {},
   "source": [
    "# Transform the test data using the tokenizer and evaluate the model performance"
   ]
  },
  {
   "cell_type": "code",
   "execution_count": 9,
   "metadata": {},
   "outputs": [],
   "source": [
    "#Transform the test data\n",
    "Xtest_sequence = tokenizer.texts_to_sequences(Xtest)\n",
    "Xtest_sequence = keras.preprocessing.sequence.pad_sequences(Xtest_sequence,\n",
    "                                                            maxlen = Xtrain_sequence.shape[1],\n",
    "                                                            padding='post')"
   ]
  },
  {
   "cell_type": "code",
   "execution_count": 10,
   "metadata": {},
   "outputs": [
    {
     "name": "stdout",
     "output_type": "stream",
     "text": [
      "19/19 [==============================] - 0s 5ms/step - loss: 0.5254 - accuracy: 0.8549\n"
     ]
    }
   ],
   "source": [
    "#evaluate model performance\n",
    "eval_lstm = model_lstm.evaluate(Xtest_sequence, ytest)\n",
    "ypred = model_lstm.predict(Xtest_sequence)"
   ]
  },
  {
   "cell_type": "markdown",
   "metadata": {},
   "source": [
    "# Convert Class probabilities into predictions\n",
    "\n",
    "For simplicity we simply take the class with the largest probability to be the prediction"
   ]
  },
  {
   "cell_type": "code",
   "execution_count": 11,
   "metadata": {},
   "outputs": [],
   "source": [
    "#multiclass problem, pick highest probability as the choice\n",
    "ypred_choices = ypred*0\n",
    "cnt = 0\n",
    "for yp in ypred:\n",
    "    idx = np.argmax(yp)\n",
    "    ypred_choices[cnt,idx] = 1\n",
    "    cnt += 1"
   ]
  },
  {
   "cell_type": "markdown",
   "metadata": {},
   "source": [
    "# Confusion Matrix Performance Analysis\n",
    "\n",
    "Here we see where the classifier performs well and where any mis-classifications are most common. Given we have an class abundance bias, the normalised confusion matrix is plotted below."
   ]
  },
  {
   "cell_type": "code",
   "execution_count": 12,
   "metadata": {
    "pycharm": {
     "name": "#%%\n"
    }
   },
   "outputs": [
    {
     "data": {
      "image/png": "[encoded data removed]",
      "text/plain": [
       "<Figure size 432x288 with 2 Axes>"
      ]
     },
     "metadata": {
      "needs_background": "light"
     },
     "output_type": "display_data"
    }
   ],
   "source": [
    "from sklearn import metrics\n",
    "from sklearn.metrics import ConfusionMatrixDisplay\n",
    "cm = metrics.confusion_matrix(ytest.argmax(axis=1), ypred_choices.argmax(axis=1))\n",
    "cmnorm = cm.astype('float') / cm.sum(axis=1)[:, np.newaxis]\n",
    "disp = ConfusionMatrixDisplay(confusion_matrix=cm,\n",
    "                              display_labels=labels)\n",
    "plt.rcParams.update({'font.size': 7})\n",
    "# NOTE: Fill all variables here with default values of the plot_confusion_matrix\n",
    "disp = disp.plot(xticks_rotation=90,cmap='Blues')\n",
    "plt.tight_layout()\n",
    "plt.savefig('confusion_matrix.png')\n",
    "plt.show()"
   ]
  },
  {
   "cell_type": "markdown",
   "metadata": {
    "pycharm": {
     "name": "#%%\n"
    }
   },
   "source": [
    "The confusion matrics shows where the model has a tendancy to correctly predict a target label, and where it falls down. There are two types of misclassification errors possible with a binary label problem. Type 1 (or False Positive) errors occur where the model incorrectly assigns a sample as belonging to the positive class. Type 2 (False Negative) errors indicate where a positive classification is missed. The difference with a multiclass problem such as this is that any misclassification error will be both Type 1 and Type 2, since a false positive with respect to one label will simultaneously be a false negative with respect to another.  \n",
    "\n",
    "We can condense the confusion matrix into a single metric to score the models ability to classify each label. We consider the models false positive and negative performance with respect to each label and calculate a quantity, F1, that is the harmonic mean of precision and recall. \n",
    "\n",
    "$F_1 = \\frac{TP}{TP + 0.5 \\left( FP + FN \\right)}$.\n",
    "\n",
    "For a label with all items correctly classified, $F_1=1$. The quantity then declines as misclassifications increase."
   ]
  },
  {
   "cell_type": "markdown",
   "metadata": {},
   "source": []
  },
  {
   "cell_type": "code",
   "execution_count": 13,
   "metadata": {},
   "outputs": [
    {
     "data": {
      "image/png": "[encoded data removed]",
      "text/plain": [
       "<Figure size 432x288 with 2 Axes>"
      ]
     },
     "metadata": {
      "needs_background": "light"
     },
     "output_type": "display_data"
    }
   ],
   "source": [
    "#Now make a plot showing the F1 score (harmonic mean precision recall)\n",
    "true_pos = np.diag(cm)\n",
    "false_pos = np.sum(cm, axis = 0) - true_pos\n",
    "false_neg = np.sum(cm, axis = 1) - true_pos\n",
    "f1 = true_pos / (true_pos + 0.5*(false_pos + false_neg))\n",
    "\n",
    "fig = plt.figure()\n",
    "ax1 = fig.add_subplot(111)\n",
    "idxsort = np.argsort(f1)[-1::-1]\n",
    "x = np.arange(len(labels))\n",
    "y = f1[idxsort]\n",
    "ax1.bar(x,y,color='b')\n",
    "ax1.set_xticks(x)\n",
    "ax1.set_xticklabels(np.array(labels)[idxsort])\n",
    "ax1.set_ylabel('F1',color='b')\n",
    "ax1.spines['left'].set_color = 'blue'\n",
    "ax1.set_title('F1 metric (precision, recall harmonic mean)')\n",
    "ax1.tick_params(axis='x',rotation=90)\n",
    "ax1.tick_params(axis='y',colors='blue')\n",
    "#overplot the label counts on a second axis\n",
    "ax2 = ax1.twinx()\n",
    "counts = np.sum(cm,axis=1)\n",
    "ax2.plot(x, counts[idxsort],color='r',label='label counts')\n",
    "ax2.spines['right'].set_color = 'red'\n",
    "ax2.set_ylabel('Label Counts',color='r')\n",
    "ax2.tick_params(axis='y',colors='red')\n",
    "plt.tight_layout()\n",
    "plt.savefig('F1_score.png')"
   ]
  },
  {
   "cell_type": "markdown",
   "metadata": {},
   "source": [
    "# Summary\n",
    "\n",
    "We see that the LSTM model generally performs well for the 'flight', 'abbreviation', 'airfare' and 'ground service' querries with and $F_1$ score above 0.6. The performance then decays rapidly toward zero for the remaining classes. This is likely due to a combination of the following.\n",
    "\n",
    "### Class Imballance\n",
    "We see from the label counts that the VAST majority of samples in our dataset belong to the 'flight' class. During training this skews the model to accurately predicting this single class. Indeed we see a general correlation between $F_1$ score and label abundance. One potential wayt to overcome this problem is to re-phrase the question out model asks. We can turn this multi-class problem into a binary class problem that predicts 'Flight query or NOT Flight query'. This is a common approach to overcoming class imballance in commercial classification problems.\n",
    "\n",
    "\n",
    "### Training Time\n",
    "In this problem we train the LSTM for only 5 epochs. This is somewhat low for most LSTM problems of this complexity and traditionaly we would expect to train the model for longer. One typically guards against overfit in instances with large numbers of training epochs by isolating a separate 'validation' sample. After each epoch of training we compare the training loss with the loss of the model-predicted validation sample. The training loss will continue to decrease with additional epochs of training but the validation loss will at some point stop falling and begin to rise. The epoch in which the validation loss is minimised typicall indicates when to stop training but this is likely to be significantly more than the 5 epochs shown here. "
   ]
  }
 ],
 "metadata": {
  "kernelspec": {
   "display_name": "Python 3",
   "language": "python",
   "name": "python3"
  },
  "language_info": {
   "codemirror_mode": {
    "name": "ipython",
    "version": 3
   },
   "file_extension": ".py",
   "mimetype": "text/x-python",
   "name": "python",
   "nbconvert_exporter": "python",
   "pygments_lexer": "ipython3",
   "version": "3.8.3"
  }
 },
 "nbformat": 4,
 "nbformat_minor": 4
}
